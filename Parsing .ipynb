{
 "cells": [
  {
   "cell_type": "markdown",
   "id": "f98b54a2",
   "metadata": {},
   "source": [
    "# Парсинг вакансий с Хабр.Карьера по направлениям \"Аналитика данных\" и \"Data Science\"."
   ]
  },
  {
   "cell_type": "markdown",
   "id": "e5fe513f",
   "metadata": {},
   "source": [
    "**Цель:** написание алгоритма парсинга данных по вакансиям для IT-специалистов с сайта [career.habr.com/vacancies](https://career.habr.com/vacancies?type=all), анализ и визуализация результатов."
   ]
  },
  {
   "cell_type": "markdown",
   "id": "228abfc0",
   "metadata": {},
   "source": [
    "Алгоритм позволяет получить информацию о вакансиях по направлениям **Аналитика данных и Data Science** в разрезе уровней, компании и навыков."
   ]
  },
  {
   "cell_type": "markdown",
   "id": "3843c211",
   "metadata": {},
   "source": [
    "За основу взят регион: **Москва.**"
   ]
  },
  {
   "cell_type": "markdown",
   "id": "4a520fd0",
   "metadata": {},
   "source": [
    "**Особенности работы** с сайтом career.habr.com/vacancies: так как в задании требуется получить информацию по направлениям \"Аналитика данных\" и \"Data Science\", то для отбора будем использовать фильтр \"специализация\", отдельно поле \"Поиск\" нам не потребуется в данном случае.\n",
    "\n",
    "Последовательно выберем из раздела \"Аналитика\" - \"Аналитик по данным\", чему в парсере будет соответствовать filter_number = 3, затем в разделе \"Искусственный интеллект\" - \"Ученый по данным/(Data Scientist)\", чему в парсере будет соответствовать filter_number = 4.\n",
    "\n",
    "Региону \"Москва\" соответствует параметр 4, перед параметром специализации, его мы менять не будем, так как берем его за основу в двух направлениях по вакансиям."
   ]
  },
  {
   "cell_type": "markdown",
   "id": "2ffc0f3f",
   "metadata": {},
   "source": [
    "### Парсинг данных."
   ]
  },
  {
   "cell_type": "code",
   "execution_count": 1,
   "id": "627677bf",
   "metadata": {},
   "outputs": [],
   "source": [
    "from bs4 import BeautifulSoup\n",
    "import requests\n",
    "\n",
    "import pandas as pd\n",
    "import plotly.express as px\n",
    "\n",
    "import seaborn as sns\n",
    "import matplotlib.pyplot as plt\n",
    "\n",
    "from IPython.display import display, HTML\n",
    "from scipy import stats as st\n",
    "\n",
    "import warnings\n",
    "warnings.filterwarnings('ignore')"
   ]
  },
  {
   "cell_type": "code",
   "execution_count": 2,
   "id": "39b58112",
   "metadata": {},
   "outputs": [],
   "source": [
    "# filter_number фильтрует вакансии по специализации. \n",
    "# Параметр 3 - для аналитики, 4 - для DS.\n",
    "\n",
    "def vacancy_info(filter_number):\n",
    "    data = []\n",
    "    for page in range(1,5):\n",
    "        url = f'https://career.habr.com/vacancies?locations[]=c_678&page={page}&s[]=4{filter_number}&type=all'\n",
    "        requests.get(url)\n",
    "        pages = requests.get(url)\n",
    "        soup = BeautifulSoup(pages.text,'lxml')\n",
    "\n",
    "        vacancies = soup.find_all('div', class_='vacancy-card__inner')\n",
    "        \n",
    "\n",
    "        for vacancy in vacancies:\n",
    "            skills = vacancy.find('div', class_='vacancy-card__skills').text.split(' • ')[1:]\n",
    "            company = vacancy.find('div', class_='vacancy-card__company-title').text\n",
    "            grade = vacancy.find('div', class_='vacancy-card__skills').text.split(' • ')[0]\n",
    "            name_of_vacancy = vacancy.find('a', class_='vacancy-card__title-link').text\n",
    "            salary = vacancy.find('div', class_='basic-salary').text\n",
    "            date_of_publication = vacancy.find('time', class_='basic-date')['datetime']\n",
    "            \n",
    "            data.append([skills,company,name_of_vacancy,salary,date_of_publication,grade])\n",
    "\n",
    "        columns = ['skills','company','vacancy','salary','date_of_publication','grade']\n",
    "        table = pd.DataFrame(data, columns = columns)\n",
    "\n",
    "        table[['position', 'level']] = table['grade'].str.split(',', n=1, expand=True)\n",
    "        table = table.drop('grade', axis=1)\n",
    "        table['date_of_publication'] = pd.to_datetime(table['date_of_publication']).dt.date\n",
    "        table['count_skills'] = table['skills'].apply(len)\n",
    "\n",
    "    \n",
    "    return table"
   ]
  },
  {
   "cell_type": "markdown",
   "id": "e43a38a5",
   "metadata": {},
   "source": [
    "### Анализ вакансий по направлению \"Аналитик данных\""
   ]
  },
  {
   "cell_type": "markdown",
   "id": "ff255f23",
   "metadata": {},
   "source": [
    "Для начала найдем отдельно информацию о вакансиях по направлению **Аналитик данных** ."
   ]
  },
  {
   "cell_type": "code",
   "execution_count": 3,
   "id": "e77f517a",
   "metadata": {},
   "outputs": [
    {
     "data": {
      "text/html": [
       "<div>\n",
       "<style scoped>\n",
       "    .dataframe tbody tr th:only-of-type {\n",
       "        vertical-align: middle;\n",
       "    }\n",
       "\n",
       "    .dataframe tbody tr th {\n",
       "        vertical-align: top;\n",
       "    }\n",
       "\n",
       "    .dataframe thead th {\n",
       "        text-align: right;\n",
       "    }\n",
       "</style>\n",
       "<table border=\"1\" class=\"dataframe\">\n",
       "  <thead>\n",
       "    <tr style=\"text-align: right;\">\n",
       "      <th></th>\n",
       "      <th>skills</th>\n",
       "      <th>company</th>\n",
       "      <th>vacancy</th>\n",
       "      <th>salary</th>\n",
       "      <th>date_of_publication</th>\n",
       "      <th>position</th>\n",
       "      <th>level</th>\n",
       "      <th>count_skills</th>\n",
       "    </tr>\n",
       "  </thead>\n",
       "  <tbody>\n",
       "    <tr>\n",
       "      <th>0</th>\n",
       "      <td>[Matlab, C, C++]</td>\n",
       "      <td>БЮРО 1440</td>\n",
       "      <td>Программист - исследователь беспроводных систе...</td>\n",
       "      <td></td>\n",
       "      <td>2023-10-31</td>\n",
       "      <td>Аналитик по данным</td>\n",
       "      <td>Старший (Senior)</td>\n",
       "      <td>3</td>\n",
       "    </tr>\n",
       "    <tr>\n",
       "      <th>1</th>\n",
       "      <td>[SQL, Python, Git, Apache Spark, Apache Hadoop...</td>\n",
       "      <td>beeline</td>\n",
       "      <td>Senior Data Scientist</td>\n",
       "      <td></td>\n",
       "      <td>2023-10-31</td>\n",
       "      <td>Аналитик по данным</td>\n",
       "      <td>Старший (Senior)</td>\n",
       "      <td>9</td>\n",
       "    </tr>\n",
       "    <tr>\n",
       "      <th>2</th>\n",
       "      <td>[SQL, Python, Алгоритмы и структуры данных, Gi...</td>\n",
       "      <td>Холдинг Т1</td>\n",
       "      <td>Data аналитик (Виртуальные ассистенты)</td>\n",
       "      <td></td>\n",
       "      <td>2023-10-31</td>\n",
       "      <td>Аналитик по данным</td>\n",
       "      <td>Средний (Middle)</td>\n",
       "      <td>5</td>\n",
       "    </tr>\n",
       "    <tr>\n",
       "      <th>3</th>\n",
       "      <td>[Python, Pandas]</td>\n",
       "      <td>Первая Грузовая Компания</td>\n",
       "      <td>Data Analyst</td>\n",
       "      <td></td>\n",
       "      <td>2023-10-30</td>\n",
       "      <td>Аналитик по данным</td>\n",
       "      <td>Средний (Middle)</td>\n",
       "      <td>2</td>\n",
       "    </tr>\n",
       "    <tr>\n",
       "      <th>4</th>\n",
       "      <td>[CSS, PowerBI, Powershell, SSIS, Oracle PL/SQL]</td>\n",
       "      <td>ДИКСИ</td>\n",
       "      <td>Программист-аналитик SQL</td>\n",
       "      <td></td>\n",
       "      <td>2023-10-29</td>\n",
       "      <td>Аналитик по данным</td>\n",
       "      <td>None</td>\n",
       "      <td>5</td>\n",
       "    </tr>\n",
       "  </tbody>\n",
       "</table>\n",
       "</div>"
      ],
      "text/plain": [
       "                                              skills  \\\n",
       "0                                   [Matlab, C, C++]   \n",
       "1  [SQL, Python, Git, Apache Spark, Apache Hadoop...   \n",
       "2  [SQL, Python, Алгоритмы и структуры данных, Gi...   \n",
       "3                                   [Python, Pandas]   \n",
       "4    [CSS, PowerBI, Powershell, SSIS, Oracle PL/SQL]   \n",
       "\n",
       "                    company  \\\n",
       "0                 БЮРО 1440   \n",
       "1                   beeline   \n",
       "2                Холдинг Т1   \n",
       "3  Первая Грузовая Компания   \n",
       "4                     ДИКСИ   \n",
       "\n",
       "                                             vacancy salary  \\\n",
       "0  Программист - исследователь беспроводных систе...          \n",
       "1                              Senior Data Scientist          \n",
       "2             Data аналитик (Виртуальные ассистенты)          \n",
       "3                                       Data Analyst          \n",
       "4                           Программист-аналитик SQL          \n",
       "\n",
       "  date_of_publication            position              level  count_skills  \n",
       "0          2023-10-31  Аналитик по данным   Старший (Senior)             3  \n",
       "1          2023-10-31  Аналитик по данным   Старший (Senior)             9  \n",
       "2          2023-10-31  Аналитик по данным   Средний (Middle)             5  \n",
       "3          2023-10-30  Аналитик по данным   Средний (Middle)             2  \n",
       "4          2023-10-29  Аналитик по данным               None             5  "
      ]
     },
     "execution_count": 3,
     "metadata": {},
     "output_type": "execute_result"
    }
   ],
   "source": [
    "analytics = vacancy_info(3)\n",
    "analytics.head()"
   ]
  },
  {
   "cell_type": "markdown",
   "id": "cf142fc3",
   "metadata": {},
   "source": [
    "**Навыки**"
   ]
  },
  {
   "cell_type": "code",
   "execution_count": 4,
   "id": "e20ee7a0",
   "metadata": {},
   "outputs": [
    {
     "data": {
      "text/plain": [
       "[SQL, Python]                                                                                                     2\n",
       "[Matlab, C, C++]                                                                                                  1\n",
       "[SQL, Python, Git, Apache Spark, Apache Hadoop, Apache Airflow, Математическая статистика, Docker, Kubernetes]    1\n",
       "[Qlik Sense, Анализ данных, Microsoft Excel, Математическая статистика, Визуализация, DWH]                        1\n",
       "[Powershell, Visual Basic, Python, SQL]                                                                           1\n",
       "Name: skills, dtype: int64"
      ]
     },
     "execution_count": 4,
     "metadata": {},
     "output_type": "execute_result"
    }
   ],
   "source": [
    "top_set_skills_a = analytics.skills.value_counts().head()\n",
    "top_set_skills_a"
   ]
  },
  {
   "cell_type": "code",
   "execution_count": 5,
   "id": "6823a448",
   "metadata": {},
   "outputs": [
    {
     "name": "stdout",
     "output_type": "stream",
     "text": [
      "Мы видим, что наиболее частые наборы навыков ['SQL', 'Python'] и ['Matlab', 'C', 'C++'].\n"
     ]
    }
   ],
   "source": [
    "print(f'Мы видим, что наиболее частые наборы навыков {top_set_skills_a.index[0]} и {top_set_skills_a.index[1]}.')"
   ]
  },
  {
   "cell_type": "markdown",
   "id": "7b9baa9b",
   "metadata": {},
   "source": [
    "Теперь исследуем, какой из всех навыков самые восстребованный."
   ]
  },
  {
   "cell_type": "code",
   "execution_count": 6,
   "id": "dda86c71",
   "metadata": {},
   "outputs": [
    {
     "data": {
      "text/plain": [
       "SQL              13\n",
       "Python           13\n",
       "Apache Hadoop     4\n",
       "Базы данных       3\n",
       "Анализ данных     3\n",
       "dtype: int64"
      ]
     },
     "execution_count": 6,
     "metadata": {},
     "output_type": "execute_result"
    }
   ],
   "source": [
    "top_skills_a = pd.Series(analytics.skills.sum()).value_counts().head()\n",
    "top_skills_a"
   ]
  },
  {
   "cell_type": "code",
   "execution_count": 7,
   "id": "decd53d3",
   "metadata": {},
   "outputs": [
    {
     "name": "stdout",
     "output_type": "stream",
     "text": [
      "Навык, который требуется чаще всего в вакансиях на аналитика данных, - SQL. На 2-м месте - Python, на 3-м - Apache Hadoop\n"
     ]
    }
   ],
   "source": [
    "print(f'Навык, который требуется чаще всего в вакансиях на аналитика данных, - {top_skills_a.index[0]}. На 2-м месте - {top_skills_a.index[1]}, на 3-м - {top_skills_a.index[2]}')"
   ]
  },
  {
   "cell_type": "markdown",
   "id": "9000570a",
   "metadata": {},
   "source": [
    "**Уровень**"
   ]
  },
  {
   "cell_type": "markdown",
   "id": "0b907258",
   "metadata": {},
   "source": [
    "Сгруппируем вакансии по уровню."
   ]
  },
  {
   "cell_type": "code",
   "execution_count": 8,
   "id": "fb479e32",
   "metadata": {},
   "outputs": [
    {
     "data": {
      "text/plain": [
       "level\n",
       " Стажёр (Intern)     1\n",
       " Старший (Senior)    7\n",
       " Средний (Middle)    9\n",
       "Name: level, dtype: int64"
      ]
     },
     "execution_count": 8,
     "metadata": {},
     "output_type": "execute_result"
    }
   ],
   "source": [
    "grade_a = analytics.groupby('level')['level'].count().sort_values(ascending = True)\n",
    "grade_a"
   ]
  },
  {
   "cell_type": "code",
   "execution_count": 9,
   "id": "20cdce06",
   "metadata": {},
   "outputs": [
    {
     "data": {
      "image/png": "[encoded data removed]"
     },
     "metadata": {},
     "output_type": "display_data"
    }
   ],
   "source": [
    "fig1 = px.bar(grade_a, x=grade_a.index, y=grade_a, labels=dict(index = 'Уровень', y='Кол-во вакансий'))\n",
    "fig1.update_layout(title_text='Кол-во вакансий \"Аналитик данных\" по уровню специализации', title_x=0.5)\n",
    "fig1.show(\"png\")"
   ]
  },
  {
   "cell_type": "code",
   "execution_count": 10,
   "id": "390aad7c",
   "metadata": {},
   "outputs": [
    {
     "name": "stdout",
     "output_type": "stream",
     "text": [
      "Наибольшим спросом пользуется позиция: Средний (Middle). На данный момент активно 9 позиций. Меньше всего позиций на уровень:  Стажёр (Intern)\n"
     ]
    }
   ],
   "source": [
    "print(f'Наибольшим спросом пользуется позиция:{grade_a.index[-1]}. На данный момент активно {grade_a.values[-1]} позиций. Меньше всего позиций на уровень: {grade_a.index[0]}')"
   ]
  },
  {
   "cell_type": "markdown",
   "id": "024e3e50",
   "metadata": {},
   "source": [
    "**Компания**"
   ]
  },
  {
   "cell_type": "code",
   "execution_count": 11,
   "id": "1d528c9a",
   "metadata": {},
   "outputs": [
    {
     "data": {
      "text/plain": [
       "company\n",
       "beeline            3\n",
       "Почта Банк         2\n",
       "Холдинг Т1         2\n",
       "Action tech        1\n",
       "Bell Integrator    1\n",
       "Name: company, dtype: int64"
      ]
     },
     "execution_count": 11,
     "metadata": {},
     "output_type": "execute_result"
    }
   ],
   "source": [
    "companies_a = analytics.groupby('company')['company'].count().sort_values(ascending = False)\n",
    "companies_a.head()"
   ]
  },
  {
   "cell_type": "code",
   "execution_count": 12,
   "id": "78e0d15f",
   "metadata": {},
   "outputs": [
    {
     "name": "stdout",
     "output_type": "stream",
     "text": [
      " Больше всего вакансий у компании \"beeline\". На втором месте по кол-ву открытых компаний по анализу данных \"Почта Банк\".\n"
     ]
    }
   ],
   "source": [
    "print(f' Больше всего вакансий у компании \"{companies_a.index[0]}\". На втором месте по кол-ву открытых компаний по анализу данных \"{companies_a.index[1]}\".')"
   ]
  },
  {
   "cell_type": "markdown",
   "id": "606e26e0",
   "metadata": {},
   "source": [
    "### Анализ вакансий по направлению \"Data Science\""
   ]
  },
  {
   "cell_type": "code",
   "execution_count": 13,
   "id": "b21e7f09",
   "metadata": {},
   "outputs": [
    {
     "data": {
      "text/html": [
       "<div>\n",
       "<style scoped>\n",
       "    .dataframe tbody tr th:only-of-type {\n",
       "        vertical-align: middle;\n",
       "    }\n",
       "\n",
       "    .dataframe tbody tr th {\n",
       "        vertical-align: top;\n",
       "    }\n",
       "\n",
       "    .dataframe thead th {\n",
       "        text-align: right;\n",
       "    }\n",
       "</style>\n",
       "<table border=\"1\" class=\"dataframe\">\n",
       "  <thead>\n",
       "    <tr style=\"text-align: right;\">\n",
       "      <th></th>\n",
       "      <th>skills</th>\n",
       "      <th>company</th>\n",
       "      <th>vacancy</th>\n",
       "      <th>salary</th>\n",
       "      <th>date_of_publication</th>\n",
       "      <th>position</th>\n",
       "      <th>level</th>\n",
       "      <th>count_skills</th>\n",
       "    </tr>\n",
       "  </thead>\n",
       "  <tbody>\n",
       "    <tr>\n",
       "      <th>0</th>\n",
       "      <td>[Машинное обучение, Python, SQL, Pandas, PyTorch]</td>\n",
       "      <td>Bell Integrator</td>\n",
       "      <td>Data Scientist (Middle/Senior) Remote</td>\n",
       "      <td></td>\n",
       "      <td>2023-10-30</td>\n",
       "      <td>Ученый по данным</td>\n",
       "      <td>Средний (Middle)</td>\n",
       "      <td>5</td>\n",
       "    </tr>\n",
       "    <tr>\n",
       "      <th>1</th>\n",
       "      <td>[Python, Java, Apache Spark, Apache Hadoop]</td>\n",
       "      <td>VK</td>\n",
       "      <td>Инженер-разработчик Data Science (проект \"Лент...</td>\n",
       "      <td></td>\n",
       "      <td>2023-10-29</td>\n",
       "      <td>Ученый по данным</td>\n",
       "      <td>Средний (Middle)</td>\n",
       "      <td>4</td>\n",
       "    </tr>\n",
       "    <tr>\n",
       "      <th>2</th>\n",
       "      <td>[SQL, Python]</td>\n",
       "      <td>Банк ВТБ</td>\n",
       "      <td>Data Scientist (сопровождение процесса разрабо...</td>\n",
       "      <td></td>\n",
       "      <td>2023-10-28</td>\n",
       "      <td>Ученый по данным</td>\n",
       "      <td>Средний (Middle)</td>\n",
       "      <td>2</td>\n",
       "    </tr>\n",
       "    <tr>\n",
       "      <th>3</th>\n",
       "      <td>[Python, SQL, Oracle]</td>\n",
       "      <td>SM Lab</td>\n",
       "      <td>Data Scientist (Прогнозирование)</td>\n",
       "      <td></td>\n",
       "      <td>2023-10-26</td>\n",
       "      <td>Ученый по данным</td>\n",
       "      <td>Средний (Middle)</td>\n",
       "      <td>3</td>\n",
       "    </tr>\n",
       "    <tr>\n",
       "      <th>4</th>\n",
       "      <td>[SQL, SAS, Python, NumPy, Pandas]</td>\n",
       "      <td>Строительный Двор</td>\n",
       "      <td>Data Scientist</td>\n",
       "      <td></td>\n",
       "      <td>2023-10-25</td>\n",
       "      <td>Ученый по данным</td>\n",
       "      <td>Средний (Middle)</td>\n",
       "      <td>5</td>\n",
       "    </tr>\n",
       "  </tbody>\n",
       "</table>\n",
       "</div>"
      ],
      "text/plain": [
       "                                              skills            company  \\\n",
       "0  [Машинное обучение, Python, SQL, Pandas, PyTorch]    Bell Integrator   \n",
       "1        [Python, Java, Apache Spark, Apache Hadoop]                 VK   \n",
       "2                                      [SQL, Python]           Банк ВТБ   \n",
       "3                              [Python, SQL, Oracle]             SM Lab   \n",
       "4                  [SQL, SAS, Python, NumPy, Pandas]  Строительный Двор   \n",
       "\n",
       "                                             vacancy salary  \\\n",
       "0              Data Scientist (Middle/Senior) Remote          \n",
       "1  Инженер-разработчик Data Science (проект \"Лент...          \n",
       "2  Data Scientist (сопровождение процесса разрабо...          \n",
       "3                   Data Scientist (Прогнозирование)          \n",
       "4                                     Data Scientist          \n",
       "\n",
       "  date_of_publication          position              level  count_skills  \n",
       "0          2023-10-30  Ученый по данным   Средний (Middle)             5  \n",
       "1          2023-10-29  Ученый по данным   Средний (Middle)             4  \n",
       "2          2023-10-28  Ученый по данным   Средний (Middle)             2  \n",
       "3          2023-10-26  Ученый по данным   Средний (Middle)             3  \n",
       "4          2023-10-25  Ученый по данным   Средний (Middle)             5  "
      ]
     },
     "execution_count": 13,
     "metadata": {},
     "output_type": "execute_result"
    }
   ],
   "source": [
    "data_science = vacancy_info(4)\n",
    "data_science.head()"
   ]
  },
  {
   "cell_type": "markdown",
   "id": "714c46b7",
   "metadata": {},
   "source": [
    "**Навыки**"
   ]
  },
  {
   "cell_type": "code",
   "execution_count": 14,
   "id": "1ea3e439",
   "metadata": {},
   "outputs": [
    {
     "data": {
      "text/plain": [
       "Python               8\n",
       "SQL                  5\n",
       "Машинное обучение    3\n",
       "Pandas               2\n",
       "PyTorch              2\n",
       "dtype: int64"
      ]
     },
     "execution_count": 14,
     "metadata": {},
     "output_type": "execute_result"
    }
   ],
   "source": [
    "top_skills_d = pd.Series(data_science.skills.sum()).value_counts().head()\n",
    "top_skills_d"
   ]
  },
  {
   "cell_type": "code",
   "execution_count": 15,
   "id": "e1296a03",
   "metadata": {},
   "outputs": [
    {
     "name": "stdout",
     "output_type": "stream",
     "text": [
      "Для Data Science самый популярный навык уже другой - Python, а на 2-м месте - SQL. Ровно наоборот по сравнению с аналитиками данных.\n"
     ]
    }
   ],
   "source": [
    "print(f'Для Data Science самый популярный навык уже другой - {top_skills_d.index[0]}, а на 2-м месте - {top_skills_d.index[1]}. Ровно наоборот по сравнению с аналитиками данных.')"
   ]
  },
  {
   "cell_type": "markdown",
   "id": "0f3d5a81",
   "metadata": {},
   "source": [
    "**Уровень**"
   ]
  },
  {
   "cell_type": "code",
   "execution_count": 16,
   "id": "e1617e0a",
   "metadata": {},
   "outputs": [
    {
     "data": {
      "text/plain": [
       "level\n",
       " Старший (Senior)    3\n",
       " Средний (Middle)    6\n",
       "Name: level, dtype: int64"
      ]
     },
     "execution_count": 16,
     "metadata": {},
     "output_type": "execute_result"
    }
   ],
   "source": [
    "grade_d = data_science.groupby('level')['level'].count().sort_values(ascending = True)\n",
    "grade_d"
   ]
  },
  {
   "cell_type": "code",
   "execution_count": 17,
   "id": "2c7f2fd6",
   "metadata": {},
   "outputs": [
    {
     "name": "stdout",
     "output_type": "stream",
     "text": [
      "Наибольшим спросом пользуется позиция: Средний (Middle). На данный момент активно 6 позиций. Меньше всего позиций на уровень:  Старший (Senior)\n"
     ]
    }
   ],
   "source": [
    "print(f'Наибольшим спросом пользуется позиция:{grade_d.index[-1]}. На данный момент активно {grade_d.values[-1]} позиций. Меньше всего позиций на уровень: {grade_d.index[0]}')"
   ]
  },
  {
   "cell_type": "code",
   "execution_count": 18,
   "id": "ea6bf6e3",
   "metadata": {},
   "outputs": [
    {
     "data": {
      "image/png": "[encoded data removed]"
     },
     "metadata": {},
     "output_type": "display_data"
    }
   ],
   "source": [
    "fig2 = px.bar(grade_d, x=grade_d.index, y=grade_d,labels=dict(index = 'Уровень', y='Кол-во вакансий'))\n",
    "fig2.update_layout(title_text='Кол-во вакансий \"Data Science\" по уровню специализации', title_x=0.5)\n",
    "fig2.show(\"png\")"
   ]
  },
  {
   "cell_type": "markdown",
   "id": "79deacbd",
   "metadata": {},
   "source": [
    "**Компания**"
   ]
  },
  {
   "cell_type": "code",
   "execution_count": 19,
   "id": "7a3ce231",
   "metadata": {},
   "outputs": [
    {
     "data": {
      "text/plain": [
       "company\n",
       "BIA-Technologies    1\n",
       "Bell Integrator     1\n",
       "SM Lab              1\n",
       "TINKOFF             1\n",
       "VK                  1\n",
       "Name: company, dtype: int64"
      ]
     },
     "execution_count": 19,
     "metadata": {},
     "output_type": "execute_result"
    }
   ],
   "source": [
    "companies_d = data_science.groupby('company')['company'].count().sort_values(ascending = False)\n",
    "companies_d.head()"
   ]
  },
  {
   "cell_type": "markdown",
   "id": "48a45de3",
   "metadata": {},
   "source": [
    "### Анализ вакансий по обоим направлениям \"Аналитик данных\" и \"Data Science\""
   ]
  },
  {
   "cell_type": "markdown",
   "id": "b6715b08",
   "metadata": {},
   "source": [
    "В таблице мы видим разделение по уровням и по направлениям."
   ]
  },
  {
   "cell_type": "code",
   "execution_count": 20,
   "id": "6efe15eb",
   "metadata": {},
   "outputs": [
    {
     "data": {
      "text/html": [
       "<div>\n",
       "<style scoped>\n",
       "    .dataframe tbody tr th:only-of-type {\n",
       "        vertical-align: middle;\n",
       "    }\n",
       "\n",
       "    .dataframe tbody tr th {\n",
       "        vertical-align: top;\n",
       "    }\n",
       "\n",
       "    .dataframe thead th {\n",
       "        text-align: right;\n",
       "    }\n",
       "</style>\n",
       "<table border=\"1\" class=\"dataframe\">\n",
       "  <thead>\n",
       "    <tr style=\"text-align: right;\">\n",
       "      <th></th>\n",
       "      <th>skills</th>\n",
       "      <th>company</th>\n",
       "      <th>vacancy</th>\n",
       "      <th>salary</th>\n",
       "      <th>date_of_publication</th>\n",
       "      <th>position</th>\n",
       "      <th>level</th>\n",
       "      <th>count_skills</th>\n",
       "    </tr>\n",
       "  </thead>\n",
       "  <tbody>\n",
       "    <tr>\n",
       "      <th>0</th>\n",
       "      <td>[Matlab, C, C++]</td>\n",
       "      <td>БЮРО 1440</td>\n",
       "      <td>Программист - исследователь беспроводных систе...</td>\n",
       "      <td></td>\n",
       "      <td>2023-10-31</td>\n",
       "      <td>Аналитик по данным</td>\n",
       "      <td>Старший (Senior)</td>\n",
       "      <td>3</td>\n",
       "    </tr>\n",
       "    <tr>\n",
       "      <th>1</th>\n",
       "      <td>[SQL, Python, Git, Apache Spark, Apache Hadoop...</td>\n",
       "      <td>beeline</td>\n",
       "      <td>Senior Data Scientist</td>\n",
       "      <td></td>\n",
       "      <td>2023-10-31</td>\n",
       "      <td>Аналитик по данным</td>\n",
       "      <td>Старший (Senior)</td>\n",
       "      <td>9</td>\n",
       "    </tr>\n",
       "    <tr>\n",
       "      <th>2</th>\n",
       "      <td>[SQL, Python, Алгоритмы и структуры данных, Gi...</td>\n",
       "      <td>Холдинг Т1</td>\n",
       "      <td>Data аналитик (Виртуальные ассистенты)</td>\n",
       "      <td></td>\n",
       "      <td>2023-10-31</td>\n",
       "      <td>Аналитик по данным</td>\n",
       "      <td>Средний (Middle)</td>\n",
       "      <td>5</td>\n",
       "    </tr>\n",
       "    <tr>\n",
       "      <th>3</th>\n",
       "      <td>[Python, Pandas]</td>\n",
       "      <td>Первая Грузовая Компания</td>\n",
       "      <td>Data Analyst</td>\n",
       "      <td></td>\n",
       "      <td>2023-10-30</td>\n",
       "      <td>Аналитик по данным</td>\n",
       "      <td>Средний (Middle)</td>\n",
       "      <td>2</td>\n",
       "    </tr>\n",
       "    <tr>\n",
       "      <th>4</th>\n",
       "      <td>[CSS, PowerBI, Powershell, SSIS, Oracle PL/SQL]</td>\n",
       "      <td>ДИКСИ</td>\n",
       "      <td>Программист-аналитик SQL</td>\n",
       "      <td></td>\n",
       "      <td>2023-10-29</td>\n",
       "      <td>Аналитик по данным</td>\n",
       "      <td>None</td>\n",
       "      <td>5</td>\n",
       "    </tr>\n",
       "  </tbody>\n",
       "</table>\n",
       "</div>"
      ],
      "text/plain": [
       "                                              skills  \\\n",
       "0                                   [Matlab, C, C++]   \n",
       "1  [SQL, Python, Git, Apache Spark, Apache Hadoop...   \n",
       "2  [SQL, Python, Алгоритмы и структуры данных, Gi...   \n",
       "3                                   [Python, Pandas]   \n",
       "4    [CSS, PowerBI, Powershell, SSIS, Oracle PL/SQL]   \n",
       "\n",
       "                    company  \\\n",
       "0                 БЮРО 1440   \n",
       "1                   beeline   \n",
       "2                Холдинг Т1   \n",
       "3  Первая Грузовая Компания   \n",
       "4                     ДИКСИ   \n",
       "\n",
       "                                             vacancy salary  \\\n",
       "0  Программист - исследователь беспроводных систе...          \n",
       "1                              Senior Data Scientist          \n",
       "2             Data аналитик (Виртуальные ассистенты)          \n",
       "3                                       Data Analyst          \n",
       "4                           Программист-аналитик SQL          \n",
       "\n",
       "  date_of_publication            position              level  count_skills  \n",
       "0          2023-10-31  Аналитик по данным   Старший (Senior)             3  \n",
       "1          2023-10-31  Аналитик по данным   Старший (Senior)             9  \n",
       "2          2023-10-31  Аналитик по данным   Средний (Middle)             5  \n",
       "3          2023-10-30  Аналитик по данным   Средний (Middle)             2  \n",
       "4          2023-10-29  Аналитик по данным               None             5  "
      ]
     },
     "execution_count": 20,
     "metadata": {},
     "output_type": "execute_result"
    }
   ],
   "source": [
    "boths = pd.concat([analytics,data_science])\n",
    "boths.head()"
   ]
  },
  {
   "cell_type": "markdown",
   "id": "84d91824",
   "metadata": {},
   "source": [
    "**Компания**"
   ]
  },
  {
   "cell_type": "markdown",
   "id": "2a772aa0",
   "metadata": {},
   "source": [
    "Определим топ-5 компаний по кол-ву открытых вакансий по специализациям анализ данных и data science."
   ]
  },
  {
   "cell_type": "code",
   "execution_count": 21,
   "id": "285a0e89",
   "metadata": {},
   "outputs": [
    {
     "data": {
      "text/plain": [
       "company\n",
       "beeline            3\n",
       "Яндекс             2\n",
       "Bell Integrator    2\n",
       "Холдинг Т1         2\n",
       "VK                 2\n",
       "Name: company, dtype: int64"
      ]
     },
     "execution_count": 21,
     "metadata": {},
     "output_type": "execute_result"
    }
   ],
   "source": [
    "companies_both = boths.groupby('company')['company'].count().sort_values(ascending = False)\n",
    "companies_both.head()"
   ]
  },
  {
   "cell_type": "code",
   "execution_count": 22,
   "id": "11700751",
   "metadata": {},
   "outputs": [
    {
     "name": "stdout",
     "output_type": "stream",
     "text": [
      " Компании beeline и Яндекс являются лидерами по кол-ву открытых вакансий  по специализациям анализ даннх и data science на данный момент.\n"
     ]
    }
   ],
   "source": [
    "print(f' Компании {companies_both.index[0]} и {companies_both.index[1]} являются лидерами по кол-ву открытых вакансий  по специализациям анализ даннх и data science на данный момент.')"
   ]
  },
  {
   "cell_type": "markdown",
   "id": "fa364910",
   "metadata": {},
   "source": [
    "**Уровень**"
   ]
  },
  {
   "cell_type": "markdown",
   "id": "ca48eaa3",
   "metadata": {},
   "source": [
    "Посмотрим на кол-во вакансий в разрезе грейдов по специализациям."
   ]
  },
  {
   "cell_type": "code",
   "execution_count": 23,
   "id": "960b3567",
   "metadata": {},
   "outputs": [
    {
     "data": {
      "text/plain": [
       "position            level            \n",
       "Аналитик по данным   Средний (Middle)    9\n",
       "                     Старший (Senior)    7\n",
       "                     Стажёр (Intern)     1\n",
       "Ученый по данным     Средний (Middle)    6\n",
       "                     Старший (Senior)    3\n",
       "Name: level, dtype: int64"
      ]
     },
     "execution_count": 23,
     "metadata": {},
     "output_type": "execute_result"
    }
   ],
   "source": [
    "sep_level = boths.groupby('position')['level'].value_counts()\n",
    "sep_level"
   ]
  },
  {
   "cell_type": "code",
   "execution_count": 24,
   "id": "69007908",
   "metadata": {},
   "outputs": [
    {
     "data": {
      "image/png": "[encoded data removed]",
      "text/plain": [
       "<Figure size 640x480 with 1 Axes>"
      ]
     },
     "metadata": {},
     "output_type": "display_data"
    }
   ],
   "source": [
    "sns.histplot(data=boths, x=\"position\", hue=\"level\",  multiple=\"dodge\",shrink=.7, palette = sns.color_palette(\"inferno\",4)).set(title = 'Кол-во вакансий по направлениям и уровням')\n",
    "plt.xlabel('Направление')\n",
    "plt.ylabel('Кол-во вакансий по уровням')\n",
    "plt.show()"
   ]
  },
  {
   "cell_type": "code",
   "execution_count": 25,
   "id": "2254f6db",
   "metadata": {},
   "outputs": [
    {
     "name": "stdout",
     "output_type": "stream",
     "text": [
      " Незавивимо от специализации больше всего вакансий уровня: Средний (Middle)\n"
     ]
    }
   ],
   "source": [
    "print(f' Незавивимо от специализации больше всего вакансий уровня:{sep_level.index[0][1]}')"
   ]
  },
  {
   "cell_type": "markdown",
   "id": "3ddccd11",
   "metadata": {},
   "source": [
    "Далее рассмотрим разбиение на уровни без разделения по направлениям."
   ]
  },
  {
   "cell_type": "code",
   "execution_count": 26,
   "id": "14eac2d8",
   "metadata": {},
   "outputs": [
    {
     "data": {
      "text/plain": [
       "level\n",
       " Стажёр (Intern)      1\n",
       " Старший (Senior)    10\n",
       " Средний (Middle)    15\n",
       "Name: level, dtype: int64"
      ]
     },
     "execution_count": 26,
     "metadata": {},
     "output_type": "execute_result"
    }
   ],
   "source": [
    "both = boths.groupby('level')['level'].count().sort_values(ascending = True)\n",
    "both"
   ]
  },
  {
   "cell_type": "code",
   "execution_count": 27,
   "id": "243f44ec",
   "metadata": {},
   "outputs": [
    {
     "name": "stdout",
     "output_type": "stream",
     "text": [
      "Наибольшим спросом пользуется позиция: Средний (Middle). На данный момент активно всего 15 позиций/я. Меньше всего позиций на уровень:  Стажёр (Intern)\n"
     ]
    }
   ],
   "source": [
    "print(f'Наибольшим спросом пользуется позиция:{both.index[-1]}. На данный момент активно всего {both.values[-1]} позиций/я. Меньше всего позиций на уровень: {both.index[0]}')"
   ]
  },
  {
   "cell_type": "code",
   "execution_count": 28,
   "id": "e39b6e31",
   "metadata": {},
   "outputs": [
    {
     "data": {
      "image/png": "[encoded data removed]"
     },
     "metadata": {},
     "output_type": "display_data"
    }
   ],
   "source": [
    "fig3 = px.bar(both, x=both.index, y=both, labels=dict(index = 'Уровень', y='Кол-во вакансий'))\n",
    "fig3.update_layout(title_text='Кол-во вакансий \"Data Science\" и \"Аналитик данных\" по уровню специализации', title_x=0.5)\n",
    "fig3.show(\"png\")"
   ]
  },
  {
   "cell_type": "markdown",
   "id": "6cc78ede",
   "metadata": {},
   "source": [
    "Проведем интересную аггрегацию по уровню грейда и кол-ву требуемых навыков."
   ]
  },
  {
   "cell_type": "code",
   "execution_count": 29,
   "id": "b2765644",
   "metadata": {},
   "outputs": [
    {
     "data": {
      "text/plain": [
       "level\n",
       " Старший (Senior)    4.1\n",
       " Стажёр (Intern)     4.0\n",
       " Средний (Middle)    3.6\n",
       "Name: count_skills, dtype: float64"
      ]
     },
     "execution_count": 29,
     "metadata": {},
     "output_type": "execute_result"
    }
   ],
   "source": [
    "skills_table = boths.groupby('level')['count_skills'].mean().sort_values(ascending = False)\n",
    "skills_table"
   ]
  },
  {
   "cell_type": "code",
   "execution_count": 30,
   "id": "9a64f2d2",
   "metadata": {},
   "outputs": [
    {
     "name": "stdout",
     "output_type": "stream",
     "text": [
      "Мы видим, что больше всего требований к позиции  Старший (Senior) , меньше всего требований к позиции  Средний (Middle) . Интересная корреляция. Получается, что для самых старших и самых низких грейдов меньше всего требований, а вот к средним больше всего.\n"
     ]
    }
   ],
   "source": [
    "print(f'Мы видим, что больше всего требований к позиции {skills_table.index[0]} , меньше всего требований к позиции {skills_table.index[-1]} . Интересная корреляция. Получается, что для самых старших и самых низких грейдов меньше всего требований, а вот к средним больше всего.')"
   ]
  },
  {
   "cell_type": "markdown",
   "id": "42097e38",
   "metadata": {},
   "source": [
    "**Даты**"
   ]
  },
  {
   "cell_type": "code",
   "execution_count": 31,
   "id": "09b62cc4",
   "metadata": {},
   "outputs": [
    {
     "data": {
      "text/plain": [
       "date_of_publication\n",
       "2023-10-24    4\n",
       "2023-10-26    4\n",
       "2023-10-27    4\n",
       "2023-10-31    3\n",
       "2023-10-23    2\n",
       "Name: date_of_publication, dtype: int64"
      ]
     },
     "execution_count": 31,
     "metadata": {},
     "output_type": "execute_result"
    }
   ],
   "source": [
    "date_both = boths.groupby('date_of_publication')['date_of_publication'].count().sort_values(ascending = False)\n",
    "date_both.head()"
   ]
  },
  {
   "cell_type": "code",
   "execution_count": 32,
   "id": "6376f4ea",
   "metadata": {},
   "outputs": [
    {
     "name": "stdout",
     "output_type": "stream",
     "text": [
      "Больше всего вакансий было выложено 2023-10-24 и 2023-10-26. Следовательно, в следующем году можно ориентироваться на эти даты при поиске работы, чтобы быть первым при отклике.\n"
     ]
    }
   ],
   "source": [
    "print(f'Больше всего вакансий было выложено {date_both.index[0]} и {date_both.index[1]}. Следовательно, в следующем году можно ориентироваться на эти даты при поиске работы, чтобы быть первым при отклике.')"
   ]
  },
  {
   "cell_type": "markdown",
   "id": "a1ca2bd4",
   "metadata": {},
   "source": [
    "## Статистический анализ."
   ]
  },
  {
   "cell_type": "markdown",
   "id": "9eea04eb",
   "metadata": {},
   "source": [
    "Рассмотрим различия между средним кол-вом требуемых навыков для аналитиков и data scientists.\n",
    "\n",
    "Сформулируем гипотезы:\n",
    "\n",
    "**H0:** Статистически значимые различия между кол-вом нвыков для аналитиков и data scientists отсутствуют.\n",
    "\n",
    "**H1:** Статистически значимые различия между кол-вом нвыков для аналитиков и data scientists существуют."
   ]
  },
  {
   "cell_type": "markdown",
   "id": "6273c093",
   "metadata": {},
   "source": [
    "Для проверки гипотез используем т-критерий, так как именно он помогает сравнить две выборки между собой на предмет статистически значимых различий. Из существующих уровней значимости выберем 0,05, то есть существует 5% того, что результат обусловлен случайностью."
   ]
  },
  {
   "cell_type": "markdown",
   "id": "bf1c2e04",
   "metadata": {},
   "source": [
    "Перед проведением т-теста необходимо проверить данные на гомогенность дисперсий."
   ]
  },
  {
   "cell_type": "markdown",
   "id": "96b66782",
   "metadata": {},
   "source": [
    "Проверим данные на гомогенность дисперсий с помощью **теста Левена**:"
   ]
  },
  {
   "cell_type": "code",
   "execution_count": 33,
   "id": "80f5a17a",
   "metadata": {},
   "outputs": [
    {
     "data": {
      "text/plain": [
       "LeveneResult(statistic=0.6089347115044794, pvalue=0.44223597104864365)"
      ]
     },
     "execution_count": 33,
     "metadata": {},
     "output_type": "execute_result"
    }
   ],
   "source": [
    "a = analytics.count_skills\n",
    "ds = data_science.count_skills\n",
    "\n",
    "st.levene(a, ds, center='mean')"
   ]
  },
  {
   "cell_type": "markdown",
   "id": "6aa23808",
   "metadata": {},
   "source": [
    "P - value имеет показатель > 0,05. Следовательно, мы не отвергаем гипотезу о равенстве дисперсий. Таким образом, параметр о гомогенности дисперсий соблден. -> Можем проводить т-тест."
   ]
  },
  {
   "cell_type": "code",
   "execution_count": 34,
   "id": "45724125",
   "metadata": {},
   "outputs": [
    {
     "name": "stdout",
     "output_type": "stream",
     "text": [
      "p-значение: 0.8530601134500868\n",
      "Не получилось отвергнуть нулевую гипотезу\n"
     ]
    }
   ],
   "source": [
    "alpha = .05\n",
    "\n",
    "results = st.ttest_ind(\n",
    "    a, \n",
    "    ds)\n",
    "\n",
    "print('p-значение:', results.pvalue)\n",
    "\n",
    "if results.pvalue < alpha:\n",
    "    print(\"Отвергаем нулевую гипотезу\")\n",
    "else:\n",
    "    print(\"Не получилось отвергнуть нулевую гипотезу\")"
   ]
  },
  {
   "cell_type": "markdown",
   "id": "66f0c07a",
   "metadata": {},
   "source": [
    "Т-критерий Стьюдента показал, что статистически значимых различий между кол-вом требуемых навыком для аналитиков и дата саентистов нет. Следовательно, для той и другой позиции необходимо примерно одинковое кол-во навыков."
   ]
  },
  {
   "cell_type": "code",
   "execution_count": 35,
   "id": "bdbc9c2d",
   "metadata": {},
   "outputs": [
    {
     "data": {
      "text/html": [
       "<h2>Выводы:</h2>"
      ],
      "text/plain": [
       "<IPython.core.display.HTML object>"
      ]
     },
     "metadata": {},
     "output_type": "display_data"
    },
    {
     "name": "stdout",
     "output_type": "stream",
     "text": [
      " * Таким образом, больше всего позиций среди \"Data Science\" и \"Аналитик данных\" по уровеню:  Средний (Middle), наименьшим спросом на данный момент пользуется  -  Стажёр (Intern). \n",
      "\n",
      " * Всего позиций по направлению \"Аналитик данных\": 19 .\n",
      "\n",
      " * Всего позиций по направлению \"Data Science\": 9 .\n",
      "\n",
      " * Мы видим, что больше всего требований к позиции  Старший (Senior) , меньше всего требований к позиции  Средний (Middle)? независимо от направления .\n",
      "\n",
      " * Компании \"beeline\" и \"Яндекс\" являются лидерами по кол-ву открытых вакансий  по специализациям анализ даннх и data science на данный момент.\n",
      "\n",
      " * Независимо от специализации больше всего вакансий уровня: Средний (Middle)\n"
     ]
    }
   ],
   "source": [
    "display(HTML(\"<h2>Выводы:</h2>\"))\n",
    "print(f' * Таким образом, больше всего позиций среди \"Data Science\" и \"Аналитик данных\" по уровеню: {both.index[-1]}, наименьшим спросом на данный момент пользуется  - {both.index[0]}. ')\n",
    "print()\n",
    "print(f' * Всего позиций по направлению \"Аналитик данных\": {len(analytics)} .')\n",
    "print()\n",
    "print(f' * Всего позиций по направлению \"Data Science\": {len(data_science)} .')\n",
    "print()\n",
    "print(f' * Мы видим, что больше всего требований к позиции {skills_table.index[0]} , меньше всего требований к позиции {skills_table.index[-1]}? независимо от направления .')\n",
    "print()\n",
    "print(f' * Компании \"{companies_both.index[0]}\" и \"{companies_both.index[1]}\" являются лидерами по кол-ву открытых вакансий  по специализациям анализ даннх и data science на данный момент.')\n",
    "print()\n",
    "print(f' * Независимо от специализации больше всего вакансий уровня:{sep_level.index[0][1]}')"
   ]
  }
 ],
 "metadata": {
  "kernelspec": {
   "display_name": "Python 3 (ipykernel)",
   "language": "python",
   "name": "python3"
  },
  "language_info": {
   "codemirror_mode": {
    "name": "ipython",
    "version": 3
   },
   "file_extension": ".py",
   "mimetype": "text/x-python",
   "name": "python",
   "nbconvert_exporter": "python",
   "pygments_lexer": "ipython3",
   "version": "3.10.7"
  }
 },
 "nbformat": 4,
 "nbformat_minor": 5
}
